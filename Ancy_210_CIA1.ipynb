{
  "nbformat": 4,
  "nbformat_minor": 0,
  "metadata": {
    "colab": {
      "provenance": []
    },
    "kernelspec": {
      "name": "python3",
      "display_name": "Python 3"
    },
    "language_info": {
      "name": "python"
    }
  },
  "cells": [
    {
      "cell_type": "markdown",
      "source": [
        "# ANN MODEL"
      ],
      "metadata": {
        "id": "BT81r1zCFkBq"
      }
    },
    {
      "cell_type": "markdown",
      "source": [
        "QUESTION:\n",
        "\n",
        "You are tasked with performing sentiment analysis on the IMDb movie review dataset using an Artificial Neural Network (ANN). The dataset contains movie reviews labeled as positive or negative.\n",
        "\n",
        "• Design, implement, and evaluate an ANN model to classify the sentiment of IMDb movie reviews (positive or negative).\n",
        "\n",
        "• Explain the preprocessing steps, model architecture, and performance evaluation results in your submission.\n",
        "\n",
        "• Use One or more hidden layers with ReLU activation and an output layer with sigmoid activation for binary classification.\n",
        "\n",
        "• Use the binary cross-entropy loss function for training the model.\n",
        "\n",
        "• Provide the source code, the explanation of each step and visualize the necessary EDA steps and results.\n",
        "\n",
        "• Justify the use of the ReLU and sigmoid activation functions.\n",
        "\n",
        "• Explain why binary cross-entropy is suitable for this task."
      ],
      "metadata": {
        "id": "kfPhhYUC2oJQ"
      }
    },
    {
      "cell_type": "code",
      "source": [
        "import pandas as pd\n",
        "from tensorflow.keras.preprocessing.text import Tokenizer\n",
        "from tensorflow.keras.preprocessing.sequence import pad_sequences\n",
        "from sklearn.preprocessing import LabelEncoder\n",
        "from sklearn.model_selection import train_test_split\n",
        "\n",
        "# Load dataset (adjust the path to your dataset)\n",
        "data = pd.read_csv('/content/dataset.csv')\n",
        "\n",
        "# Preprocess the text data\n",
        "reviews = data['review'].values\n",
        "sentiments = data['sentiment'].values\n",
        "\n",
        "# Convert sentiments to binary labels (0 for negative, 1 for positive)\n",
        "label_encoder = LabelEncoder()\n",
        "y = label_encoder.fit_transform(sentiments)\n",
        "\n",
        "# Tokenize the text reviews\n",
        "tokenizer = Tokenizer(num_words=10000)  # Use the top 10,000 most common words\n",
        "tokenizer.fit_on_texts(reviews)\n",
        "X = tokenizer.texts_to_sequences(reviews)\n",
        "\n",
        "# Pad sequences to ensure consistent input length\n",
        "max_len = 200\n",
        "X_padded = pad_sequences(X, maxlen=max_len, padding='post')\n",
        "\n",
        "# Split the data into training and testing sets\n",
        "X_train, X_test, y_train, y_test = train_test_split(X_padded, y, test_size=0.2, random_state=42)\n",
        "\n",
        "# Shape of training and test data\n",
        "print(X_train.shape, X_test.shape, y_train.shape, y_test.shape)\n"
      ],
      "metadata": {
        "colab": {
          "base_uri": "https://localhost:8080/"
        },
        "id": "-jgyvvur2dzy",
        "outputId": "678329e2-7c2b-4e0b-8d7b-4a867b4e980a"
      },
      "execution_count": 2,
      "outputs": [
        {
          "output_type": "stream",
          "name": "stdout",
          "text": [
            "(40000, 200) (10000, 200) (40000,) (10000,)\n"
          ]
        }
      ]
    },
    {
      "cell_type": "markdown",
      "source": [
        "The preprocessing steps here are:\n",
        "\n",
        "i) Loading the dataset.\n",
        "\n",
        "ii) Placing the reviews and sentiments in different variables.\n",
        "\n",
        "iii) Encoding the values in the sentiments with 0 and 1. 0 is for negative sentiment and 1 is for positive sentiment.\n",
        "\n",
        "iv) Tokenizing the reviews. This is used to find the top 10000 most common words in all the reviews combined.\n",
        "\n",
        "v) The tokenization ensures that the reviews are converted into text sequences which represents all the reviews,\n",
        "\n",
        "vi) Now, each of these text sequences are then padded to ensure a consistent input length.\n",
        "\n",
        "vii) Once that is done, the data is split into training and testing sets."
      ],
      "metadata": {
        "id": "uHz1WpGx3cQt"
      }
    },
    {
      "cell_type": "code",
      "source": [
        "import tensorflow as tf\n",
        "from tensorflow.keras.models import Sequential\n",
        "from tensorflow.keras.layers import Embedding, Dense, GlobalAveragePooling1D\n",
        "\n",
        "# Define the model\n",
        "model = Sequential()\n",
        "\n",
        "# Embedding layer for converting words to dense vectors\n",
        "model.add(Embedding(input_dim=10000, output_dim=32, input_length=200))\n",
        "\n",
        "# Global average pooling layer to reduce dimensionality\n",
        "model.add(GlobalAveragePooling1D())\n",
        "\n",
        "# Hidden layer with ReLU activation\n",
        "model.add(Dense(16, activation='relu'))\n",
        "\n",
        "# Output layer with Sigmoid activation for binary classification\n",
        "model.add(Dense(1, activation='sigmoid'))\n",
        "\n",
        "# Compile the model with binary cross-entropy loss and Adam optimizer\n",
        "model.compile(optimizer='adam', loss='binary_crossentropy', metrics=['accuracy'])\n",
        "\n",
        "# Print model summary\n",
        "model.summary()\n"
      ],
      "metadata": {
        "colab": {
          "base_uri": "https://localhost:8080/",
          "height": 328
        },
        "id": "1-CELxIw3Ipl",
        "outputId": "af773cbe-aa59-407b-bc03-aa907a0e54c7"
      },
      "execution_count": 3,
      "outputs": [
        {
          "output_type": "stream",
          "name": "stderr",
          "text": [
            "/usr/local/lib/python3.10/dist-packages/keras/src/layers/core/embedding.py:90: UserWarning: Argument `input_length` is deprecated. Just remove it.\n",
            "  warnings.warn(\n"
          ]
        },
        {
          "output_type": "display_data",
          "data": {
            "text/plain": [
              "\u001b[1mModel: \"sequential\"\u001b[0m\n"
            ],
            "text/html": [
              "<pre style=\"white-space:pre;overflow-x:auto;line-height:normal;font-family:Menlo,'DejaVu Sans Mono',consolas,'Courier New',monospace\"><span style=\"font-weight: bold\">Model: \"sequential\"</span>\n",
              "</pre>\n"
            ]
          },
          "metadata": {}
        },
        {
          "output_type": "display_data",
          "data": {
            "text/plain": [
              "┏━━━━━━━━━━━━━━━━━━━━━━━━━━━━━━━━━━━━━━┳━━━━━━━━━━━━━━━━━━━━━━━━━━━━━┳━━━━━━━━━━━━━━━━━┓\n",
              "┃\u001b[1m \u001b[0m\u001b[1mLayer (type)                        \u001b[0m\u001b[1m \u001b[0m┃\u001b[1m \u001b[0m\u001b[1mOutput Shape               \u001b[0m\u001b[1m \u001b[0m┃\u001b[1m \u001b[0m\u001b[1m        Param #\u001b[0m\u001b[1m \u001b[0m┃\n",
              "┡━━━━━━━━━━━━━━━━━━━━━━━━━━━━━━━━━━━━━━╇━━━━━━━━━━━━━━━━━━━━━━━━━━━━━╇━━━━━━━━━━━━━━━━━┩\n",
              "│ embedding (\u001b[38;5;33mEmbedding\u001b[0m)                │ ?                           │     \u001b[38;5;34m0\u001b[0m (unbuilt) │\n",
              "├──────────────────────────────────────┼─────────────────────────────┼─────────────────┤\n",
              "│ global_average_pooling1d             │ ?                           │     \u001b[38;5;34m0\u001b[0m (unbuilt) │\n",
              "│ (\u001b[38;5;33mGlobalAveragePooling1D\u001b[0m)             │                             │                 │\n",
              "├──────────────────────────────────────┼─────────────────────────────┼─────────────────┤\n",
              "│ dense (\u001b[38;5;33mDense\u001b[0m)                        │ ?                           │     \u001b[38;5;34m0\u001b[0m (unbuilt) │\n",
              "├──────────────────────────────────────┼─────────────────────────────┼─────────────────┤\n",
              "│ dense_1 (\u001b[38;5;33mDense\u001b[0m)                      │ ?                           │     \u001b[38;5;34m0\u001b[0m (unbuilt) │\n",
              "└──────────────────────────────────────┴─────────────────────────────┴─────────────────┘\n"
            ],
            "text/html": [
              "<pre style=\"white-space:pre;overflow-x:auto;line-height:normal;font-family:Menlo,'DejaVu Sans Mono',consolas,'Courier New',monospace\">┏━━━━━━━━━━━━━━━━━━━━━━━━━━━━━━━━━━━━━━┳━━━━━━━━━━━━━━━━━━━━━━━━━━━━━┳━━━━━━━━━━━━━━━━━┓\n",
              "┃<span style=\"font-weight: bold\"> Layer (type)                         </span>┃<span style=\"font-weight: bold\"> Output Shape                </span>┃<span style=\"font-weight: bold\">         Param # </span>┃\n",
              "┡━━━━━━━━━━━━━━━━━━━━━━━━━━━━━━━━━━━━━━╇━━━━━━━━━━━━━━━━━━━━━━━━━━━━━╇━━━━━━━━━━━━━━━━━┩\n",
              "│ embedding (<span style=\"color: #0087ff; text-decoration-color: #0087ff\">Embedding</span>)                │ ?                           │     <span style=\"color: #00af00; text-decoration-color: #00af00\">0</span> (unbuilt) │\n",
              "├──────────────────────────────────────┼─────────────────────────────┼─────────────────┤\n",
              "│ global_average_pooling1d             │ ?                           │     <span style=\"color: #00af00; text-decoration-color: #00af00\">0</span> (unbuilt) │\n",
              "│ (<span style=\"color: #0087ff; text-decoration-color: #0087ff\">GlobalAveragePooling1D</span>)             │                             │                 │\n",
              "├──────────────────────────────────────┼─────────────────────────────┼─────────────────┤\n",
              "│ dense (<span style=\"color: #0087ff; text-decoration-color: #0087ff\">Dense</span>)                        │ ?                           │     <span style=\"color: #00af00; text-decoration-color: #00af00\">0</span> (unbuilt) │\n",
              "├──────────────────────────────────────┼─────────────────────────────┼─────────────────┤\n",
              "│ dense_1 (<span style=\"color: #0087ff; text-decoration-color: #0087ff\">Dense</span>)                      │ ?                           │     <span style=\"color: #00af00; text-decoration-color: #00af00\">0</span> (unbuilt) │\n",
              "└──────────────────────────────────────┴─────────────────────────────┴─────────────────┘\n",
              "</pre>\n"
            ]
          },
          "metadata": {}
        },
        {
          "output_type": "display_data",
          "data": {
            "text/plain": [
              "\u001b[1m Total params: \u001b[0m\u001b[38;5;34m0\u001b[0m (0.00 B)\n"
            ],
            "text/html": [
              "<pre style=\"white-space:pre;overflow-x:auto;line-height:normal;font-family:Menlo,'DejaVu Sans Mono',consolas,'Courier New',monospace\"><span style=\"font-weight: bold\"> Total params: </span><span style=\"color: #00af00; text-decoration-color: #00af00\">0</span> (0.00 B)\n",
              "</pre>\n"
            ]
          },
          "metadata": {}
        },
        {
          "output_type": "display_data",
          "data": {
            "text/plain": [
              "\u001b[1m Trainable params: \u001b[0m\u001b[38;5;34m0\u001b[0m (0.00 B)\n"
            ],
            "text/html": [
              "<pre style=\"white-space:pre;overflow-x:auto;line-height:normal;font-family:Menlo,'DejaVu Sans Mono',consolas,'Courier New',monospace\"><span style=\"font-weight: bold\"> Trainable params: </span><span style=\"color: #00af00; text-decoration-color: #00af00\">0</span> (0.00 B)\n",
              "</pre>\n"
            ]
          },
          "metadata": {}
        },
        {
          "output_type": "display_data",
          "data": {
            "text/plain": [
              "\u001b[1m Non-trainable params: \u001b[0m\u001b[38;5;34m0\u001b[0m (0.00 B)\n"
            ],
            "text/html": [
              "<pre style=\"white-space:pre;overflow-x:auto;line-height:normal;font-family:Menlo,'DejaVu Sans Mono',consolas,'Courier New',monospace\"><span style=\"font-weight: bold\"> Non-trainable params: </span><span style=\"color: #00af00; text-decoration-color: #00af00\">0</span> (0.00 B)\n",
              "</pre>\n"
            ]
          },
          "metadata": {}
        }
      ]
    },
    {
      "cell_type": "markdown",
      "source": [
        "i) The model we are trying to build is a sequential model.\n",
        "\n",
        "ii) Then, words are converted into dense vectors.\n",
        "\n",
        "iii) Then, dimensionality is reduced using the global average pooling layer.\n",
        "\n",
        "iv) Then, hidden layer is formed, with the ReLU activation function.\n",
        "\n",
        "v) The output we need is a binary classified output (0 and 1 for negative and positive reviews.). Hence, we have an output layer with the sigmoid activation function to help with the last mile.\n",
        "\n",
        "vi) The model is then compiled with the Binary Cross Entropy Loss function."
      ],
      "metadata": {
        "id": "VC6FvBEg6Ly6"
      }
    },
    {
      "cell_type": "markdown",
      "source": [
        "**Sigmoid Activation Function (in the output layer):**\n",
        "\n",
        "The sigmoid function outputs values in the range of 0 to 1, which makes it ideal for binary classification problems, such as this one where we classify reviews as either positive or negative.\n",
        "\n",
        "If the output is ≥ 0.5, it predicts the positive class.\n",
        "If the output is < 0.5, it predicts the negative class.\n",
        "\n",
        "Why sigmoid works well for this task:\n",
        "\n",
        "Since we're dealing with binary sentiment classification, the sigmoid function is a natural choice for the output layer because it interprets the model’s output as the likelihood of belonging to a particular class (positive or negative).\n",
        "\n",
        "\n",
        "**ReLU Activation Function (in the hidden layers):**\n",
        "\n",
        "ReLU (Rectified Linear Unit) is defined as $f(x)=max(0,x)$ , meaning it outputs the input value directly if it’s positive; otherwise, it outputs zero.\n",
        "ReLU introduces non-linearity into the model, enabling the network to learn complex patterns and representations in the data that linear activation functions would not capture.\n",
        "ReLU is computationally efficient, as it does not involve complex exponentials or divisions, and it avoids the vanishing gradient problem (which often occurs with functions like sigmoid or tanh) during backpropagation, ensuring faster training.\n",
        "Why ReLU works well for this task:\n",
        "\n",
        "In sentiment analysis, the patterns between word embeddings and their contribution to the sentiment can be complex. Using ReLU allows the model to capture these intricate relationships without saturating gradients during training, thus leading to better learning in deep networks.\n",
        "\n",
        "\n",
        "**Binary Cross-Entropy Loss:**\n",
        "\n",
        "The Binary Cross-Entropy (BCE) loss function is the most commonly used loss function for binary classification problems. It measures the performance of a classification model whose output is a probability value between 0 and 1.\n",
        "\n",
        "Why Binary Cross-Entropy is Suitable for This Task:\n",
        "\n",
        "Binary cross-entropy is suitable because it effectively penalizes incorrect classifications and works well with the sigmoid output for binary classification tasks.\n",
        "\n",
        "If the true label is 1 (positive review), and the predicted probability is far from 1, the loss increases.\n",
        "If the true label is 0 (negative review), and the predicted probability is far from 0, the loss also increases.\n",
        "This ensures that the model outputs probabilities that are as close as possible to the true labels, leading to better performance.\n",
        "\n",
        "Works Well with Sigmoid: Since the sigmoid activation function outputs probabilities between 0 and 1, binary cross-entropy is the natural choice to compare these probabilities against the actual binary labels (0 or 1). This helps the model learn the correct probability distribution for binary classification."
      ],
      "metadata": {
        "id": "P-EpcU7PHomy"
      }
    },
    {
      "cell_type": "code",
      "source": [
        "# Train the model\n",
        "history = model.fit(X_train, y_train, epochs=10, batch_size=32, validation_data=(X_test, y_test))\n",
        "\n",
        "# Evaluate the model on the test data\n",
        "test_loss, test_acc = model.evaluate(X_test, y_test)\n",
        "print(f'Test Accuracy: {test_acc:.4f}')\n"
      ],
      "metadata": {
        "colab": {
          "base_uri": "https://localhost:8080/"
        },
        "id": "2PfBEWzf4aMm",
        "outputId": "9260ef18-0150-4204-d44f-adda79c1d7f3"
      },
      "execution_count": 4,
      "outputs": [
        {
          "output_type": "stream",
          "name": "stdout",
          "text": [
            "Epoch 1/10\n",
            "\u001b[1m1250/1250\u001b[0m \u001b[32m━━━━━━━━━━━━━━━━━━━━\u001b[0m\u001b[37m\u001b[0m \u001b[1m11s\u001b[0m 7ms/step - accuracy: 0.7147 - loss: 0.5399 - val_accuracy: 0.8783 - val_loss: 0.2918\n",
            "Epoch 2/10\n",
            "\u001b[1m1250/1250\u001b[0m \u001b[32m━━━━━━━━━━━━━━━━━━━━\u001b[0m\u001b[37m\u001b[0m \u001b[1m12s\u001b[0m 9ms/step - accuracy: 0.8946 - loss: 0.2581 - val_accuracy: 0.8659 - val_loss: 0.3133\n",
            "Epoch 3/10\n",
            "\u001b[1m1250/1250\u001b[0m \u001b[32m━━━━━━━━━━━━━━━━━━━━\u001b[0m\u001b[37m\u001b[0m \u001b[1m20s\u001b[0m 9ms/step - accuracy: 0.9111 - loss: 0.2277 - val_accuracy: 0.8920 - val_loss: 0.2613\n",
            "Epoch 4/10\n",
            "\u001b[1m1250/1250\u001b[0m \u001b[32m━━━━━━━━━━━━━━━━━━━━\u001b[0m\u001b[37m\u001b[0m \u001b[1m17s\u001b[0m 6ms/step - accuracy: 0.9215 - loss: 0.1988 - val_accuracy: 0.8895 - val_loss: 0.2723\n",
            "Epoch 5/10\n",
            "\u001b[1m1250/1250\u001b[0m \u001b[32m━━━━━━━━━━━━━━━━━━━━\u001b[0m\u001b[37m\u001b[0m \u001b[1m10s\u001b[0m 6ms/step - accuracy: 0.9332 - loss: 0.1772 - val_accuracy: 0.8874 - val_loss: 0.2802\n",
            "Epoch 6/10\n",
            "\u001b[1m1250/1250\u001b[0m \u001b[32m━━━━━━━━━━━━━━━━━━━━\u001b[0m\u001b[37m\u001b[0m \u001b[1m10s\u001b[0m 8ms/step - accuracy: 0.9362 - loss: 0.1680 - val_accuracy: 0.8744 - val_loss: 0.3165\n",
            "Epoch 7/10\n",
            "\u001b[1m1250/1250\u001b[0m \u001b[32m━━━━━━━━━━━━━━━━━━━━\u001b[0m\u001b[37m\u001b[0m \u001b[1m9s\u001b[0m 7ms/step - accuracy: 0.9377 - loss: 0.1656 - val_accuracy: 0.8767 - val_loss: 0.3258\n",
            "Epoch 8/10\n",
            "\u001b[1m1250/1250\u001b[0m \u001b[32m━━━━━━━━━━━━━━━━━━━━\u001b[0m\u001b[37m\u001b[0m \u001b[1m9s\u001b[0m 6ms/step - accuracy: 0.9438 - loss: 0.1536 - val_accuracy: 0.8740 - val_loss: 0.3467\n",
            "Epoch 9/10\n",
            "\u001b[1m1250/1250\u001b[0m \u001b[32m━━━━━━━━━━━━━━━━━━━━\u001b[0m\u001b[37m\u001b[0m \u001b[1m9s\u001b[0m 7ms/step - accuracy: 0.9445 - loss: 0.1543 - val_accuracy: 0.8794 - val_loss: 0.3315\n",
            "Epoch 10/10\n",
            "\u001b[1m1250/1250\u001b[0m \u001b[32m━━━━━━━━━━━━━━━━━━━━\u001b[0m\u001b[37m\u001b[0m \u001b[1m12s\u001b[0m 9ms/step - accuracy: 0.9529 - loss: 0.1339 - val_accuracy: 0.8730 - val_loss: 0.3649\n",
            "\u001b[1m313/313\u001b[0m \u001b[32m━━━━━━━━━━━━━━━━━━━━\u001b[0m\u001b[37m\u001b[0m \u001b[1m1s\u001b[0m 2ms/step - accuracy: 0.8728 - loss: 0.3622\n",
            "Test Accuracy: 0.8730\n"
          ]
        }
      ]
    },
    {
      "cell_type": "markdown",
      "source": [
        "The model is trained in 10 epochs here.\n",
        "\n",
        "It is then evaluated on the test data which has 313 items.\n",
        "\n",
        "The testing accuracy is 0.87 => 87.3%"
      ],
      "metadata": {
        "id": "YAJvVN4zDMGP"
      }
    },
    {
      "cell_type": "markdown",
      "source": [
        "**PERFORMANCE EVALUATION**"
      ],
      "metadata": {
        "id": "OFWV5Mf4HtIy"
      }
    },
    {
      "cell_type": "code",
      "source": [
        "import matplotlib.pyplot as plt\n",
        "\n",
        "# Plot training & validation accuracy values\n",
        "plt.plot(history.history['accuracy'])\n",
        "plt.plot(history.history['val_accuracy'])\n",
        "plt.title('Model accuracy')\n",
        "plt.ylabel('Accuracy')\n",
        "plt.xlabel('Epoch')\n",
        "plt.legend(['Train', 'Validation'], loc='upper left')\n",
        "plt.show()\n",
        "\n",
        "# Plot training & validation loss values\n",
        "plt.plot(history.history['loss'])\n",
        "plt.plot(history.history['val_loss'])\n",
        "plt.title('Model loss')\n",
        "plt.ylabel('Loss')\n",
        "plt.xlabel('Epoch')\n",
        "plt.legend(['Train', 'Validation'], loc='upper left')\n",
        "plt.show()"
      ],
      "metadata": {
        "colab": {
          "base_uri": "https://localhost:8080/",
          "height": 927
        },
        "id": "EuszYvCo4p4i",
        "outputId": "c4ff17cb-16f2-4f38-96d8-c1c443661b2b"
      },
      "execution_count": 5,
      "outputs": [
        {
          "output_type": "display_data",
          "data": {
            "text/plain": [
              "<Figure size 640x480 with 1 Axes>"
            ],
            "image/png": "[encoded data removed]"
          },
          "metadata": {}
        },
        {
          "output_type": "display_data",
          "data": {
            "text/plain": [
              "<Figure size 640x480 with 1 Axes>"
            ],
            "image/png": "[encoded data removed]"
          },
          "metadata": {}
        }
      ]
    },
    {
      "cell_type": "markdown",
      "source": [
        "Performance evaluation.\n",
        "\n",
        "The understanding here is that,\n",
        "\n",
        "1) The ACCURACY:\n",
        "   * Increased exponentially first, and then became a gradual increase.\n",
        "   * At the end of training, there was a high accuracy of 95.29%\n",
        "   * But during testing, the model didn't have the same accuracy levels.\n",
        "   * In testing, the model showed variations in different epochs.\n",
        "   * Finally, the accuracy came down to 87.28%.\n",
        "\n",
        "2) The LOSS:\n",
        "   * During training, the loss was high in the first epoch and then it exponentially decreased in the next epoch.\n",
        "   * From then on, there was only a gradual decrease in the loss during training.\n",
        "   * At the end of training, there was only a minimal loss.\n",
        "   * For the testing, there were uneven spikes in the loss factor.\n",
        "   * At the end of testing, the loss was high, which may have served as a slight factor in reduction of the accuracy."
      ],
      "metadata": {
        "id": "nJUZYhZMDn31"
      }
    },
    {
      "cell_type": "markdown",
      "source": [
        "# XOR Gate classification"
      ],
      "metadata": {
        "id": "HnokFbpsFn2v"
      }
    },
    {
      "cell_type": "markdown",
      "source": [
        "QUESTION:\n",
        "\n",
        "Scenario:\n",
        "\n",
        "The XOR gate is known for its complexity, as it outputs 1 only when the inputs are different.\n",
        "\n",
        "This is a challenge for a Single Layer Perceptron since XOR is not linearly separable.\n",
        "\n",
        "• Lab Task: Attempt to implement a Single Layer Perceptron in Google Colab to classify the output of an XOR gate. Perform the following steps:\n",
        "\n",
        "• Create the XOR gate's truth table dataset.\n",
        "\n",
        "• Implement the perceptron model and train it using the XOR dataset using MCP (McCulloch Pitts) Neuron.\n",
        "\n",
        "• Observe and discuss the perceptron's performance in this scenario.\n",
        "\n",
        "• Implement XOR using Multi-Layer Perceptron."
      ],
      "metadata": {
        "id": "Z5I_mYMECXyN"
      }
    },
    {
      "cell_type": "code",
      "source": [
        "import numpy as np\n",
        "\n",
        "# XOR dataset\n",
        "X = np.array([[0, 0], [0, 1], [1, 0], [1, 1]])  # Inputs\n",
        "y = np.array([0, 1, 1, 0])  # Outputs\n",
        "\n",
        "# Perceptron parameters\n",
        "learning_rate = 0.1\n",
        "epochs = 10\n",
        "\n",
        "# Initialize weights and bias\n",
        "weights = np.random.rand(2)\n",
        "bias = np.random.rand()\n",
        "\n",
        "# Activation function (Step function)\n",
        "def step_function(x):\n",
        "    return 1 if x >= 0 else 0\n",
        "\n",
        "# Training the perceptron\n",
        "for epoch in range(epochs):\n",
        "    total_error = 0\n",
        "    for i in range(len(X)):\n",
        "        weighted_sum = np.dot(X[i], weights) + bias\n",
        "        prediction = step_function(weighted_sum)\n",
        "        error = y[i] - prediction\n",
        "        total_error += error**2\n",
        "        # Update weights and bias\n",
        "        weights += learning_rate * error * X[i]\n",
        "        bias += learning_rate * error\n",
        "    print(f'Epoch {epoch+1}/{epochs}, Error: {total_error}')\n",
        "\n",
        "print(f'Final weights: {weights}, Final bias: {bias}')"
      ],
      "metadata": {
        "colab": {
          "base_uri": "https://localhost:8080/"
        },
        "id": "ahkfVgJR5bxz",
        "outputId": "fa98ab2a-44bf-4455-8796-904f84df1b57"
      },
      "execution_count": 6,
      "outputs": [
        {
          "output_type": "stream",
          "name": "stdout",
          "text": [
            "Epoch 1/10, Error: 2\n",
            "Epoch 2/10, Error: 2\n",
            "Epoch 3/10, Error: 2\n",
            "Epoch 4/10, Error: 2\n",
            "Epoch 5/10, Error: 2\n",
            "Epoch 6/10, Error: 2\n",
            "Epoch 7/10, Error: 2\n",
            "Epoch 8/10, Error: 2\n",
            "Epoch 9/10, Error: 2\n",
            "Epoch 10/10, Error: 3\n",
            "Final weights: [-0.17846323 -0.07146849], Final bias: 0.09444795216766527\n"
          ]
        }
      ]
    },
    {
      "cell_type": "markdown",
      "source": [
        "This is using the basic equations $Y_i = \\Sigma (x_i*w_i) + b$.\n",
        "\n",
        "The activation function used here is the step function which gives 1 if the sum of the product of weights and inputs is greater than 0, 0 otherwise."
      ],
      "metadata": {
        "id": "irNFHTTrGkW4"
      }
    },
    {
      "cell_type": "code",
      "source": [
        "import torch\n",
        "import torch.nn as nn\n",
        "import torch.optim as optim\n",
        "\n",
        "# XOR dataset\n",
        "X = torch.tensor([[0, 0], [0, 1], [1, 0], [1, 1]], dtype=torch.float32)\n",
        "y = torch.tensor([[0], [1], [1], [0]], dtype=torch.float32)\n",
        "\n",
        "# Define a simple MLP model\n",
        "class MLP(nn.Module):\n",
        "    def __init__(self):\n",
        "        super(MLP, self).__init__()\n",
        "        self.hidden_layer = nn.Linear(2, 2)  # 2 input features, 2 neurons in hidden layer\n",
        "        self.output_layer = nn.Linear(2, 1)  # 1 output\n",
        "\n",
        "    def forward(self, x):\n",
        "        x = torch.sigmoid(self.hidden_layer(x))  # Sigmoid activation for hidden layer\n",
        "        x = torch.sigmoid(self.output_layer(x))  # Sigmoid activation for output\n",
        "        return x\n",
        "\n",
        "# Initialize model, loss function, and optimizer\n",
        "model = MLP()\n",
        "criterion = nn.MSELoss()\n",
        "optimizer = optim.SGD(model.parameters(), lr=0.1)\n",
        "\n",
        "# Training loop\n",
        "epochs = 19000\n",
        "for epoch in range(epochs):\n",
        "    optimizer.zero_grad()\n",
        "    outputs = model(X)\n",
        "    loss = criterion(outputs, y)\n",
        "    loss.backward()\n",
        "    optimizer.step()\n",
        "\n",
        "    if epoch % 1000 == 0:\n",
        "        print(f'Epoch {epoch}, Loss: {loss.item()}')\n",
        "\n",
        "# Testing the model\n",
        "with torch.no_grad():\n",
        "    for i, x in enumerate(X):\n",
        "        predicted = model(x).round().item()\n",
        "        print(f'Input: {x.numpy()}, Predicted Output: {predicted}, Actual Output: {y[i].item()}')"
      ],
      "metadata": {
        "colab": {
          "base_uri": "https://localhost:8080/"
        },
        "id": "Td-02l5lCjoq",
        "outputId": "b7a203f2-0546-4e8e-feed-5cab2c07d7af"
      },
      "execution_count": 14,
      "outputs": [
        {
          "output_type": "stream",
          "name": "stdout",
          "text": [
            "Epoch 0, Loss: 0.25006788969039917\n",
            "Epoch 1000, Loss: 0.2500137388706207\n",
            "Epoch 2000, Loss: 0.24997754395008087\n",
            "Epoch 3000, Loss: 0.2499450296163559\n",
            "Epoch 4000, Loss: 0.2499074637889862\n",
            "Epoch 5000, Loss: 0.24985556304454803\n",
            "Epoch 6000, Loss: 0.24977394938468933\n",
            "Epoch 7000, Loss: 0.24963001906871796\n",
            "Epoch 8000, Loss: 0.2493414431810379\n",
            "Epoch 9000, Loss: 0.24865932762622833\n",
            "Epoch 10000, Loss: 0.24665567278862\n",
            "Epoch 11000, Loss: 0.23921023309230804\n",
            "Epoch 12000, Loss: 0.2099335789680481\n",
            "Epoch 13000, Loss: 0.1272464543581009\n",
            "Epoch 14000, Loss: 0.0524473637342453\n",
            "Epoch 15000, Loss: 0.02605695091187954\n",
            "Epoch 16000, Loss: 0.016009587794542313\n",
            "Epoch 17000, Loss: 0.011181202717125416\n",
            "Epoch 18000, Loss: 0.008450494147837162\n",
            "Input: [0. 0.], Predicted Output: 0.0, Actual Output: 0.0\n",
            "Input: [0. 1.], Predicted Output: 1.0, Actual Output: 1.0\n",
            "Input: [1. 0.], Predicted Output: 1.0, Actual Output: 1.0\n",
            "Input: [1. 1.], Predicted Output: 0.0, Actual Output: 0.0\n"
          ]
        }
      ]
    },
    {
      "cell_type": "markdown",
      "source": [
        "We use about 25000 epochs in the above code in the training loop.\n",
        "\n",
        "However, we notice that around Epoch 17000, the loss is minimized, but we don't get the target output.\n",
        "\n",
        "In Epoch 19000, we get the target output."
      ],
      "metadata": {
        "id": "Y1RHSs_aJTUo"
      }
    }
  ]
}